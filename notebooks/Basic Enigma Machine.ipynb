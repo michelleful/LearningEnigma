{
 "metadata": {
  "name": "Basic Enigma Machine"
 },
 "nbformat": 3,
 "nbformat_minor": 0,
 "worksheets": [
  {
   "cells": [
    {
     "cell_type": "heading",
     "level": 1,
     "metadata": {},
     "source": [
      "Basic Enigma machine"
     ]
    },
    {
     "cell_type": "markdown",
     "metadata": {},
     "source": [
      "The Enigma machine wasn't an invention of the German military, but a commercial encryption device invented by Arthur Scherbius and sold to various governments and militaries. The German military models adapted the Enigma machine, adding greater cryptographic complexity. In this section, we will implement the most basic Enigma machine, of the sort commercially sold during the 1920's and 1930's."
     ]
    },
    {
     "cell_type": "markdown",
     "metadata": {},
     "source": [
      "The process of encipherment begins with the operator depressing a key on the keyboard. This sends an electrical current through a series of three rotors, which could be selected from a set of rotors that came with the machine. Because the rotors are circular, it's possible to have 26 different mappings depending on the relative settings of the rotors. For example, Rotor I represents the sequence 'EKMFLGDQVZNTOWYHXUSPAIBRCJ'. When it's in the 'A' position, the result maps the letters A->E, B->K, ..., Z->J. "
     ]
    },
    {
     "cell_type": "code",
     "collapsed": false,
     "input": [
      "'ABCDEFGHIJKLMNOPQRSTUVWXYZ' # A position\n",
      "'EKMFLGDQVZNTOWYHXUSPAIBRCJ' # Rotor 1"
     ],
     "language": "python",
     "metadata": {},
     "outputs": [
      {
       "output_type": "pyout",
       "prompt_number": 3,
       "text": [
        "'EKMFLGDQVZNTOWYHXUSPAIBRCJ'"
       ]
      }
     ],
     "prompt_number": 3
    },
    {
     "cell_type": "markdown",
     "metadata": {},
     "source": [
      "When it's in the 'B' position, we get the following mapping instead:"
     ]
    },
    {
     "cell_type": "code",
     "collapsed": false,
     "input": [
      "'BCDEFGHIJKLMNOPQRSTUVWXYZA' # B position\n",
      "'EKMFLGDQVZNTOWYHXUSPAIBRCJ' # Rotor 1"
     ],
     "language": "python",
     "metadata": {},
     "outputs": [
      {
       "output_type": "pyout",
       "prompt_number": 4,
       "text": [
        "'EKMFLGDQVZNTOWYHXUSPAIBRCJ'"
       ]
      }
     ],
     "prompt_number": 4
    },
    {
     "cell_type": "code",
     "collapsed": false,
     "input": [
      "# code to implement the action of a single rotor\n",
      "\n",
      "ALPHABET = 'ABCDEFGHIJKLMNOPQRSTUVWXYZ'\n",
      "\n",
      "class Rotor:  \n",
      "    def __init__(self, substitution, position):\n",
      "        # This maps A..Z to the substitution cipher\n",
      "        assert len(substitution) == len(ALPHABET)\n",
      "        self.substitution = substitution\n",
      "        # map the position to 0=A, 1=B, 2=C etc\n",
      "        # to do this, we first find the ASCII number for the position letter and minus off the ASCII number for A.\n",
      "        self.position = ord(position.upper())-ord('A')\n",
      "        \n",
      "    def encipher(self, letter): # this will be based on the current position\n",
      "                                # because eventually the position will change as we encipher more letters!\n",
      "        # aim: find the index of the character we want in the substitution alphabet, \n",
      "        # given the current arrangement of the plaintext alphabet, which is dictated by the current position\n",
      "        # e.g. is position == 1, the plaintext alphabet is 'BCD...XYZA'\n",
      "        index = (ord(letter.upper())-ord('A') - self.position) % 26\n",
      "        return self.substitution[index]"
     ],
     "language": "python",
     "metadata": {},
     "outputs": [],
     "prompt_number": 5
    },
    {
     "cell_type": "code",
     "collapsed": false,
     "input": [
      "# actual rotors used by the German army\n",
      "\n",
      "rotorI_alphabet   = 'EKMFLGDQVZNTOWYHXUSPAIBRCJ'\n",
      "rotorII_alphabet  = 'AJDKSIRUXBLHWTMCQGZNPYFVOE'\n",
      "rotorIII_alphabet = 'BDFHJLCPRTXVZNYEIWGAKMUSQO'\n",
      "rotorIV_alphabet  = 'ESOVPZJAYQUIRHXLNFTGKDCMWB'\n",
      "rotorV_alphabet   = 'VZBRGITYUPSDNHLXAWMJQOFECK'\n",
      "rotorVI_alphabet  = 'JPGVOUMFYQBENHZRDKASXLICTW'\n",
      "rotorVII_alphabet = 'NZJHGRCXMYSWBOUFAIVLPEKQDT'\n",
      "rotorIX_alphabet  = 'FKQHTLXOCBJSPDZRAMEWNIUYGV'\n",
      "\n",
      "# let's check whether using rotorI in 'A' position does indeed map 'Z' to 'J'\n",
      "rotor = Rotor(rotorI_alphabet, 'A')\n",
      "rotor.encipher('Z')"
     ],
     "language": "python",
     "metadata": {},
     "outputs": [
      {
       "output_type": "pyout",
       "prompt_number": 6,
       "text": [
        "'J'"
       ]
      }
     ],
     "prompt_number": 6
    },
    {
     "cell_type": "code",
     "collapsed": false,
     "input": [
      "# what about if the rotor is set to the 'B' position? Then 'Z' should map to 'C' (see above)\n",
      "rotor = Rotor(rotorI_alphabet, 'B')\n",
      "rotor.encipher('Z')"
     ],
     "language": "python",
     "metadata": {},
     "outputs": [
      {
       "output_type": "pyout",
       "prompt_number": 7,
       "text": [
        "'C'"
       ]
      }
     ],
     "prompt_number": 7
    },
    {
     "cell_type": "markdown",
     "metadata": {},
     "source": [
      "We've just implemented code to run a single letter through the rotor. However, we'll need to do this through three different rotors. For example, suppose we use rotors I, II and III all set to the 'A' position, and input 'Z'. What letter should emerge from putting it through these three successive ciphers?"
     ]
    },
    {
     "cell_type": "code",
     "collapsed": false,
     "input": [
      "rotorI = Rotor(rotorI_alphabet, 'A')\n",
      "rotorII = Rotor(rotorII_alphabet, 'A')\n",
      "rotorIII = Rotor(rotorIII_alphabet, 'A')\n",
      "\n",
      "letter_to_encipher = 'Z' # you can play with this by changing the letter!\n",
      "rotorIII.encipher(rotorII.encipher(rotorI.encipher(letter_to_encipher)))"
     ],
     "language": "python",
     "metadata": {},
     "outputs": [
      {
       "output_type": "pyout",
       "prompt_number": 8,
       "text": [
        "'D'"
       ]
      }
     ],
     "prompt_number": 8
    },
    {
     "cell_type": "markdown",
     "metadata": {},
     "source": [
      "Once the letter has gone this far, it passes through a reflector board. Each reflector board has pre-determined connections of each letter to one other letter. For example, reflector board B is specified as: (AY) (BR) (CU) (DH) (EQ) (FS) (GL) (IP) (JX) (KN) (MO) (TZ) (VW). This means that A->Y and Y->A."
     ]
    },
    {
     "cell_type": "code",
     "collapsed": false,
     "input": [
      "# Essentially, the reflector board is just another substitution cipher.\n",
      "# Let's build a reflector class that will take in a specification like this as a string:\n",
      "# '(AY) (BR) (CU) (DH) (EQ) (FS) (GL) (IP) (JX) (KN) (MO) (TZ) (VW)'\n",
      "\n",
      "# helper function - let's not worry too much about how it's coded at the moment\n",
      "def group(iterator, count):\n",
      "    itr = iter(iterator)\n",
      "    while True:\n",
      "        yield tuple([itr.next() for i in range(count)])\n",
      "\n",
      "# but try to understand what it does by executing this line:\n",
      "list(group(ALPHABET, 2))"
     ],
     "language": "python",
     "metadata": {},
     "outputs": [
      {
       "output_type": "pyout",
       "prompt_number": 9,
       "text": [
        "[('A', 'B'),\n",
        " ('C', 'D'),\n",
        " ('E', 'F'),\n",
        " ('G', 'H'),\n",
        " ('I', 'J'),\n",
        " ('K', 'L'),\n",
        " ('M', 'N'),\n",
        " ('O', 'P'),\n",
        " ('Q', 'R'),\n",
        " ('S', 'T'),\n",
        " ('U', 'V'),\n",
        " ('W', 'X'),\n",
        " ('Y', 'Z')]"
       ]
      }
     ],
     "prompt_number": 9
    },
    {
     "cell_type": "code",
     "collapsed": false,
     "input": [
      "class Reflector:\n",
      "    \n",
      "    def __init__(self, specification):\n",
      "        # we need to get the pairs of letters out of the string\n",
      "        pairs = specification.replace('(','').replace(')','').replace(' ','')\n",
      "        self.substitution_dict = dict()\n",
      "        for letter1, letter2 in group(pairs,2):\n",
      "            self.substitution_dict[letter1] = letter2\n",
      "            self.substitution_dict[letter2] = letter1\n",
      "\n",
      "    def encipher(self, letter):\n",
      "        return self.substitution_dict[letter.upper()]\n",
      "            \n",
      "reflector = Reflector('(AY) (BR) (CU) (DH) (EQ) (FS) (GL) (IP) (JX) (KN) (MO) (TZ) (VW)')\n",
      "reflector.encipher('Y') "
     ],
     "language": "python",
     "metadata": {},
     "outputs": [
      {
       "output_type": "pyout",
       "prompt_number": 10,
       "text": [
        "'A'"
       ]
      }
     ],
     "prompt_number": 10
    },
    {
     "cell_type": "code",
     "collapsed": false,
     "input": [
      "# some reflectors used in Enigma\n",
      "reflectorB = Reflector('(AY) (BR) (CU) (DH) (EQ) (FS) (GL) (IP) (JX) (KN) (MO) (TZ) (VW)')\n",
      "reflectorC = Reflector('(AF) (BV) (CP) (DJ) (EI) (GO) (HY) (KR) (LZ) (MX) (NW) (TQ) (SU)')\n",
      "reflectorB_Dunn = Reflector('(AE) (BN) (CK) (DQ) (FU) (GY) (HW) (IJ) (LO) (MP) (RX) (SZ) (TV)')\n",
      "reflectorC_Dunn = Reflector('(AR) (BD) (CO) (EJ) (FN) (GT) (HK) (IV) (LM) (PW) (QZ) (SX) (UY)')"
     ],
     "language": "python",
     "metadata": {},
     "outputs": [],
     "prompt_number": 11
    },
    {
     "cell_type": "markdown",
     "metadata": {},
     "source": [
      "After passing through this, the current goes back through the rotors in reverse order. Moreover, because the current is inversed, the substitutions are also reversed. An 'A' that comes out of the reflector goes through, say, Rotor III and comes out not as 'B', but 'T'. This means we need a new function in our Rotor class."
     ]
    },
    {
     "cell_type": "code",
     "collapsed": false,
     "input": [
      "class Rotor:  \n",
      "    def __init__(self, substitution, position):\n",
      "        # This maps A..Z to the substitution cipher\n",
      "        assert len(substitution) == len(ALPHABET)\n",
      "        self.substitution = substitution\n",
      "        # map the position to 0=A, 1=B, 2=C etc\n",
      "        # to do this, we first find the ASCII number for the position letter and minus off the ASCII number for A.\n",
      "        self.position = ord(position.upper())-ord('A')\n",
      "        \n",
      "    def encipher(self, letter): # this will be based on the current position\n",
      "                                # because eventually the position will change as we encipher more letters!\n",
      "        # aim: find the index of the character we want in the substitution alphabet, \n",
      "        # given the current arrangement of the plaintext alphabet, which is dictated by the current position\n",
      "        # e.g. is position == 1, the plaintext alphabet is 'BCD...XYZA'\n",
      "        index = (ord(letter.upper())-ord('A') - self.position) % 26\n",
      "        return self.substitution[index]\n",
      "    \n",
      "    def decipher(self, letter):\n",
      "        # to do decipherment, first we have to find the letter in the substitution alphabet\n",
      "        # then, we have to add to that the position (pretty much the reverse of the enciphering process) mod 26.\n",
      "        # Then add 65 and convert that to the corresponding character\n",
      "        return chr((self.substitution.index(letter.upper()) + self.position) % 26 + ord('A'))\n",
      "\n",
      "    \n",
      "# refresh these\n",
      "rotorI = Rotor(rotorI_alphabet, 'B')\n",
      "rotorI.decipher('C')"
     ],
     "language": "python",
     "metadata": {},
     "outputs": [
      {
       "output_type": "pyout",
       "prompt_number": 18,
       "text": [
        "'Z'"
       ]
      }
     ],
     "prompt_number": 18
    },
    {
     "cell_type": "markdown",
     "metadata": {},
     "source": [
      "Now we have all the code we need to put together a basic Enigma machine!"
     ]
    },
    {
     "cell_type": "code",
     "collapsed": false,
     "input": [
      "class BasicEnigma:\n",
      "    \n",
      "    # remember, to set up our Enigma machine we need to choose three rotors and a reflector board\n",
      "    def __init__(self, rotor1, rotor2, rotor3, reflector):\n",
      "        self.rotor1 = rotor1\n",
      "        self.rotor2 = rotor2\n",
      "        self.rotor3 = rotor3\n",
      "        self.reflector = reflector\n",
      "        \n",
      "    def encipher(self, letter):\n",
      "        output_of_rotors_in  = self.rotor3.encipher(self.rotor2.encipher(self.rotor1.encipher(letter)))\n",
      "        print output_of_rotors_in\n",
      "        output_of_reflector  = self.reflector.encipher(output_of_rotors_in)\n",
      "        output_of_rotors_out = self.rotor1.decipher(self.rotor2.decipher(self.rotor3.decipher(output_of_reflector)))\n",
      "        return output_of_rotors_out\n",
      "    \n",
      "# set up an Enigma machine with RotorI, RotorII, RotorIII followed by Reflector Board B\n",
      "my_first_enigma = BasicEnigma(rotorI, rotorII, rotorIII, reflectorB)\n",
      "my_first_enigma.encipher('G')"
     ],
     "language": "python",
     "metadata": {},
     "outputs": [
      {
       "ename": "AttributeError",
       "evalue": "Rotor instance has no attribute 'decipher'",
       "output_type": "pyerr",
       "traceback": [
        "\u001b[0;31m---------------------------------------------------------------------------\u001b[0m\n\u001b[0;31mAttributeError\u001b[0m                            Traceback (most recent call last)",
        "\u001b[0;32m<ipython-input-13-358c305d2ee1>\u001b[0m in \u001b[0;36m<module>\u001b[0;34m()\u001b[0m\n\u001b[1;32m     17\u001b[0m \u001b[0;31m# set up an Enigma machine with RotorI, RotorII, RotorIII followed by Reflector Board B\u001b[0m\u001b[0;34m\u001b[0m\u001b[0;34m\u001b[0m\u001b[0m\n\u001b[1;32m     18\u001b[0m \u001b[0mmy_first_enigma\u001b[0m \u001b[0;34m=\u001b[0m \u001b[0mBasicEnigma\u001b[0m\u001b[0;34m(\u001b[0m\u001b[0mrotorI\u001b[0m\u001b[0;34m,\u001b[0m \u001b[0mrotorII\u001b[0m\u001b[0;34m,\u001b[0m \u001b[0mrotorIII\u001b[0m\u001b[0;34m,\u001b[0m \u001b[0mreflectorB\u001b[0m\u001b[0;34m)\u001b[0m\u001b[0;34m\u001b[0m\u001b[0m\n\u001b[0;32m---> 19\u001b[0;31m \u001b[0mmy_first_enigma\u001b[0m\u001b[0;34m.\u001b[0m\u001b[0mencipher\u001b[0m\u001b[0;34m(\u001b[0m\u001b[0;34m'G'\u001b[0m\u001b[0;34m)\u001b[0m\u001b[0;34m\u001b[0m\u001b[0m\n\u001b[0m",
        "\u001b[0;32m<ipython-input-13-358c305d2ee1>\u001b[0m in \u001b[0;36mencipher\u001b[0;34m(self, letter)\u001b[0m\n\u001b[1;32m     12\u001b[0m         \u001b[0;32mprint\u001b[0m \u001b[0moutput_of_rotors_in\u001b[0m\u001b[0;34m\u001b[0m\u001b[0m\n\u001b[1;32m     13\u001b[0m         \u001b[0moutput_of_reflector\u001b[0m  \u001b[0;34m=\u001b[0m \u001b[0mself\u001b[0m\u001b[0;34m.\u001b[0m\u001b[0mreflector\u001b[0m\u001b[0;34m.\u001b[0m\u001b[0mencipher\u001b[0m\u001b[0;34m(\u001b[0m\u001b[0moutput_of_rotors_in\u001b[0m\u001b[0;34m)\u001b[0m\u001b[0;34m\u001b[0m\u001b[0m\n\u001b[0;32m---> 14\u001b[0;31m         \u001b[0moutput_of_rotors_out\u001b[0m \u001b[0;34m=\u001b[0m \u001b[0mself\u001b[0m\u001b[0;34m.\u001b[0m\u001b[0mrotor1\u001b[0m\u001b[0;34m.\u001b[0m\u001b[0mdecipher\u001b[0m\u001b[0;34m(\u001b[0m\u001b[0mself\u001b[0m\u001b[0;34m.\u001b[0m\u001b[0mrotor2\u001b[0m\u001b[0;34m.\u001b[0m\u001b[0mdecipher\u001b[0m\u001b[0;34m(\u001b[0m\u001b[0mself\u001b[0m\u001b[0;34m.\u001b[0m\u001b[0mrotor3\u001b[0m\u001b[0;34m.\u001b[0m\u001b[0mdecipher\u001b[0m\u001b[0;34m(\u001b[0m\u001b[0moutput_of_reflector\u001b[0m\u001b[0;34m)\u001b[0m\u001b[0;34m)\u001b[0m\u001b[0;34m)\u001b[0m\u001b[0;34m\u001b[0m\u001b[0m\n\u001b[0m\u001b[1;32m     15\u001b[0m         \u001b[0;32mreturn\u001b[0m \u001b[0moutput_of_rotors_out\u001b[0m\u001b[0;34m\u001b[0m\u001b[0m\n\u001b[1;32m     16\u001b[0m \u001b[0;34m\u001b[0m\u001b[0m\n",
        "\u001b[0;31mAttributeError\u001b[0m: Rotor instance has no attribute 'decipher'"
       ]
      },
      {
       "output_type": "stream",
       "stream": "stdout",
       "text": [
        "W\n"
       ]
      }
     ],
     "prompt_number": 13
    },
    {
     "cell_type": "raw",
     "metadata": {},
     "source": [
      "Let's extend this with a function to encipher a whole string at once."
     ]
    },
    {
     "cell_type": "code",
     "collapsed": false,
     "input": [
      "class BasicEnigma:\n",
      "    \n",
      "    # remember, to set up our Enigma machine we need to choose three rotors and a reflector board\n",
      "    def __init__(self, rotor1, rotor2, rotor3, reflector):\n",
      "        self.rotor1 = rotor1\n",
      "        self.rotor2 = rotor2\n",
      "        self.rotor3 = rotor3\n",
      "        self.reflector = reflector\n",
      "        \n",
      "    # the current goes into the rightmost rotor first, which we'll take to be rotor3, followed by rotor2, rotor1, etc...\n",
      "    def encipher(self, letter):\n",
      "        output_of_rotors_in  = self.rotor1.encipher(self.rotor2.encipher(self.rotor3.encipher(letter)))\n",
      "        output_of_reflector  = self.reflector.encipher(output_of_rotors_in)\n",
      "        output_of_rotors_out = self.rotor3.decipher(self.rotor2.decipher(self.rotor1.decipher(output_of_reflector)))\n",
      "        return output_of_rotors_out\n",
      "\n",
      "    def encipher_string(self, string):\n",
      "        return \"\".join([self.encipher(letter) for letter in string])\n",
      "    \n",
      "# set up an Enigma machine with RotorI, RotorII, RotorIII followed by Reflector Board B\n",
      "my_first_enigma = BasicEnigma(rotorI, rotorII, rotorIII, reflectorB)\n",
      "my_first_enigma.encipher_string('GGG')"
     ],
     "language": "python",
     "metadata": {},
     "outputs": []
    },
    {
     "cell_type": "raw",
     "metadata": {},
     "source": [
      "An important property of Enigma is that it is *symmetric*. Once you have your ciphertext, if you set up your Enigma machine in the same way the encipherment was done, you can key in the ciphertext and get back the original plaintext."
     ]
    },
    {
     "cell_type": "code",
     "collapsed": false,
     "input": [
      "my_first_enigma.encipher_string('ABCDEFGHIJKLMNOPQRSTUVWYXZ')"
     ],
     "language": "python",
     "metadata": {},
     "outputs": []
    },
    {
     "cell_type": "code",
     "collapsed": false,
     "input": [
      "my_first_enigma.encipher_string('UEJOBTPZWCNSRKDGVMLFAQIXYH')"
     ],
     "language": "python",
     "metadata": {},
     "outputs": []
    },
    {
     "cell_type": "markdown",
     "metadata": {},
     "source": [
      "Why is this the case?\n",
      "\n",
      "Let's think about the rotors and reflector as functions, since that's what they are. Call them $f,g,h,j$ respectively ($j$ is the reflector).\n",
      "\n",
      "The encryption process gives us $y = f^{-1}(g^{-1}(h^{-1}(j(h(g(f(x)))))))$ .\n",
      "\n",
      "Now applying the same process to $y$, we get:\n",
      "\n",
      "$$z = f^{-1}(g^{-1}(h^{-1}(j(h(g(f(y)))))) = f^{-1}(g^{-1}(h^{-1}(j(j(h(g(f(x))))))))$$\n",
      "\n",
      "Remember, $j$ is symmetric - so $j(j(x))=x$. So continuing to simplify, we get:\n",
      "\n",
      "$$z = f^{-1}(g^{-1}(h^{-1}(h(g(f(x))))) = x$$\n",
      "\n",
      "The symmetry of the reflector, plus the fact that the action of the rotors is inverted on the way out, is the key."
     ]
    },
    {
     "cell_type": "markdown",
     "metadata": {},
     "source": [
      "A second important property of Enigma is that a letter is never mapped onto itself. (You can experiment a bit with different rotors and plaintexts to satisfy yourself that this is the case.) But why?\n",
      "\n",
      "Suppose that we did have $x=f^{\u22121}(g^{\u22121}(h^{\u22121}(j(h(g(f(x)))))))$ . Then\n",
      "\n",
      "$$h(g(f(x))) = j(h(g(f(x))))$$\n",
      "\n",
      "This means that $j(y)=y$ for some value $y$, but the reflector is designed to map pairs of letters -- it could never map a letter to itself! This was a serious cryptographic weakness to Enigma, and one that would be exploited by Allied codebreakers.\n"
     ]
    },
    {
     "cell_type": "markdown",
     "metadata": {},
     "source": [
      "Hooray! We're done with our most basic version of Enigma.\n",
      "\n",
      "Quiz question: suppose you have five rotors and four reflector boards to choose from. How many possible *keys* are there?"
     ]
    },
    {
     "cell_type": "code",
     "collapsed": false,
     "input": [
      "# Answer: \n",
      "\n",
      "5*4*3*4\n",
      "\n",
      "# Reasoning: There are 5 rotors to choose to slot into the rightmost slot, \n",
      "# 4 remaining into the middle, and 3 into the leftmost slot; and 4 ways to choose a reflector."
     ],
     "language": "python",
     "metadata": {},
     "outputs": []
    },
    {
     "cell_type": "markdown",
     "metadata": {},
     "source": [
      "That's not enough keys! If this were all there was to Enigma, it would have been easy to break through trial and error. The real Enigma was complicated in several ways. We'll go through them in more detail in the next module."
     ]
    }
   ],
   "metadata": {}
  }
 ]
}
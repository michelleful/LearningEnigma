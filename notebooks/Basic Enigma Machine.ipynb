{
 "metadata": {
  "name": "Basic Enigma Machine"
 },
 "nbformat": 3,
 "nbformat_minor": 0,
 "worksheets": [
  {
   "cells": [
    {
     "cell_type": "heading",
     "level": 1,
     "metadata": {},
     "source": [
      "Basic Enigma machine"
     ]
    },
    {
     "cell_type": "markdown",
     "metadata": {},
     "source": [
      "The Enigma machine wasn't an invention of the German military, but a commercial encryption device invented by Arthur Scherbius and sold to various governments and militaries. The German military models adapted the Enigma machine, adding greater cryptographic complexity. In this section, we will implement the most basic Enigma machine, of the sort commercially sold during the 1920's and 1930's."
     ]
    },
    {
     "cell_type": "markdown",
     "metadata": {},
     "source": [
      "The process of encipherment begins with the operator depressing a key on the keyboard. This sends an electrical current through a series of three rotors, which could be selected from a set of rotors. Each rotor represents a single substitution cipher, mapping one letter to another. For example, Rotor I mapped the letters A..Z to 'EKMFLGDQVZNTOWYHXUSPAIBRCJ': A->E, B->K, ..., Z->J."
     ]
    },
    {
     "cell_type": "code",
     "collapsed": false,
     "input": [
      "# code to implement the action of a single rotor\n",
      "\n",
      "ALPHABET = 'ABCDEFGHIJKLMNOPQRSTUVWXYZ'\n",
      "\n",
      "class Rotor:\n",
      "    def __init__(self, substitution):\n",
      "        # This maps A..Z to the substitution cipher\n",
      "        assert len(substitution) == len(ALPHABET)\n",
      "        self.substitution_dict = {k:v for k,v in zip(ALPHABET, substitution.upper())} \n",
      "        \n",
      "    def cipher(self, letter):\n",
      "        return self.substitution_dict[letter.upper()]"
     ],
     "language": "python",
     "metadata": {},
     "outputs": [],
     "prompt_number": 1
    },
    {
     "cell_type": "code",
     "collapsed": false,
     "input": [
      "# actual rotors used by the German army\n",
      "\n",
      "# rotor will map 'ABCDEFGHIJKLMNOPQRSTUVWXYZ' to:\n",
      "rotorI   = Rotor('EKMFLGDQVZNTOWYHXUSPAIBRCJ')\n",
      "rotorII  = Rotor('AJDKSIRUXBLHWTMCQGZNPYFVOE')\n",
      "rotorIII = Rotor('BDFHJLCPRTXVZNYEIWGAKMUSQO')\n",
      "rotorIV  = Rotor('ESOVPZJAYQUIRHXLNFTGKDCMWB')\n",
      "rotorV   = Rotor('VZBRGITYUPSDNHLXAWMJQOFECK')\n",
      "rotorVI  = Rotor('JPGVOUMFYQBENHZRDKASXLICTW')\n",
      "rotorVII = Rotor('NZJHGRCXMYSWBOUFAIVLPEKQDT')\n",
      "rotorIX  = Rotor('FKQHTLXOCBJSPDZRAMEWNIUYGV')\n",
      "\n",
      "# let's check whether using rotorI does indeed map 'Z' to 'J'\n",
      "rotorI.cipher('Z')"
     ],
     "language": "python",
     "metadata": {},
     "outputs": [
      {
       "output_type": "pyout",
       "prompt_number": 2,
       "text": [
        "'J'"
       ]
      }
     ],
     "prompt_number": 2
    },
    {
     "cell_type": "markdown",
     "metadata": {},
     "source": [
      "We've just implemented code to run a single letter through the rotor. However, we'll need to do this through three different rotors. For example, suppose we use rotors I, II and III, and input 'Z'. What letter should emerge from putting it through these three successive ciphers?"
     ]
    },
    {
     "cell_type": "code",
     "collapsed": false,
     "input": [
      "letter_to_encipher = 'Z' # you can play with this by changing the letter!\n",
      "rotorIII.cipher(rotorII.cipher(rotorI.cipher(letter_to_encipher)))"
     ],
     "language": "python",
     "metadata": {},
     "outputs": [
      {
       "output_type": "pyout",
       "prompt_number": 3,
       "text": [
        "'D'"
       ]
      }
     ],
     "prompt_number": 3
    },
    {
     "cell_type": "markdown",
     "metadata": {},
     "source": [
      "Once the letter has gone this far, it passes through a reflector board. "
     ]
    }
   ],
   "metadata": {}
  }
 ]
}
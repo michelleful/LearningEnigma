{
 "metadata": {
  "name": "Basic Enigma Machine"
 },
 "nbformat": 3,
 "nbformat_minor": 0,
 "worksheets": [
  {
   "cells": [
    {
     "cell_type": "heading",
     "level": 1,
     "metadata": {},
     "source": [
      "Basic Enigma machine"
     ]
    },
    {
     "cell_type": "markdown",
     "metadata": {},
     "source": [
      "The Enigma machine wasn't an invention of the German military, but a commercial encryption device invented by Arthur Scherbius and sold to various governments and militaries. The German military models adapted the Enigma machine, adding greater cryptographic complexity. In this section, we will implement the most basic Enigma machine, of the sort commercially sold during the 1920's and 1930's."
     ]
    },
    {
     "cell_type": "markdown",
     "metadata": {},
     "source": [
      "The process of encipherment begins with the operator depressing a key on the keyboard. This sends an electrical current through a series of three rotors, which could be selected from a set of rotors that came with the machine. Each rotor represents a single substitution cipher, mapping one letter to another. For example, Rotor I maps the letters A->E, B->K, ..., Z->J."
     ]
    },
    {
     "cell_type": "code",
     "collapsed": false,
     "input": [
      "# code to implement the action of a single rotor\n",
      "\n",
      "ALPHABET = 'ABCDEFGHIJKLMNOPQRSTUVWXYZ'\n",
      "\n",
      "class Rotor:  \n",
      "    def __init__(self, substitution):\n",
      "        # This maps A..Z to the substitution cipher\n",
      "        assert len(substitution) == len(ALPHABET)\n",
      "        self.substitution_dict = {k:v for k,v in zip(ALPHABET, substitution.upper())} \n",
      "        \n",
      "    def encipher(self, letter):\n",
      "        return self.substitution_dict[letter.upper()]"
     ],
     "language": "python",
     "metadata": {},
     "outputs": [],
     "prompt_number": 1
    },
    {
     "cell_type": "code",
     "collapsed": false,
     "input": [
      "# actual rotors used by the German army\n",
      "\n",
      "# rotor will map 'ABCDEFGHIJKLMNOPQRSTUVWXYZ' to:\n",
      "rotorI   = Rotor('EKMFLGDQVZNTOWYHXUSPAIBRCJ')\n",
      "rotorII  = Rotor('AJDKSIRUXBLHWTMCQGZNPYFVOE')\n",
      "rotorIII = Rotor('BDFHJLCPRTXVZNYEIWGAKMUSQO')\n",
      "rotorIV  = Rotor('ESOVPZJAYQUIRHXLNFTGKDCMWB')\n",
      "rotorV   = Rotor('VZBRGITYUPSDNHLXAWMJQOFECK')\n",
      "rotorVI  = Rotor('JPGVOUMFYQBENHZRDKASXLICTW')\n",
      "rotorVII = Rotor('NZJHGRCXMYSWBOUFAIVLPEKQDT')\n",
      "rotorIX  = Rotor('FKQHTLXOCBJSPDZRAMEWNIUYGV')\n",
      "\n",
      "# let's check whether using rotorI does indeed map 'Z' to 'J'\n",
      "rotorI.encipher('Z')"
     ],
     "language": "python",
     "metadata": {},
     "outputs": [
      {
       "output_type": "pyout",
       "prompt_number": 2,
       "text": [
        "'J'"
       ]
      }
     ],
     "prompt_number": 2
    },
    {
     "cell_type": "markdown",
     "metadata": {},
     "source": [
      "We've just implemented code to run a single letter through the rotor. However, we'll need to do this through three different rotors. For example, suppose we use rotors I, II and III, and input 'Z'. What letter should emerge from putting it through these three successive ciphers?"
     ]
    },
    {
     "cell_type": "code",
     "collapsed": false,
     "input": [
      "letter_to_encipher = 'Z' # you can play with this by changing the letter!\n",
      "rotorIII.encipher(rotorII.encipher(rotorI.encipher(letter_to_encipher)))"
     ],
     "language": "python",
     "metadata": {},
     "outputs": [
      {
       "output_type": "pyout",
       "prompt_number": 3,
       "text": [
        "'D'"
       ]
      }
     ],
     "prompt_number": 3
    },
    {
     "cell_type": "markdown",
     "metadata": {},
     "source": [
      "Once the letter has gone this far, it passes through a reflector board. Each reflector board has pre-determined connections of each letter to one other letter. For example, reflector board B is specified as: (AY) (BR) (CU) (DH) (EQ) (FS) (GL) (IP) (JX) (KN) (MO) (TZ) (VW). This means that A->Y and Y->A."
     ]
    },
    {
     "cell_type": "code",
     "collapsed": false,
     "input": [
      "# Essentially, the reflector board is just another substitution cipher. \n",
      "# We could implement it using our Rotor code. How would you encode reflector board B as a rotor?\n",
      "\n",
      "#                          'ABCDEFGHIJKLMNOPQRSTUVWXYZ'\n",
      "reflector_as_rotor = Rotor('YRUHQSLDPXNGOKMIEBFZCWVJAT')"
     ],
     "language": "python",
     "metadata": {},
     "outputs": [],
     "prompt_number": 4
    },
    {
     "cell_type": "code",
     "collapsed": false,
     "input": [
      "# Building on this insight, let's create a Reflector class that takes in a specification like \n",
      "# '(AY) (BR) (CU) (DH) (EQ) (FS) (GL) (IP) (JX) (KN) (MO) (TZ) (VW)' as a string, but\n",
      "# reuses some of the code for the Rotor\n",
      "\n",
      "# helper function - let's not worry too much about how it's coded at the moment\n",
      "def group(iterator, count):\n",
      "    itr = iter(iterator)\n",
      "    while True:\n",
      "        yield tuple([itr.next() for i in range(count)])\n",
      "\n",
      "# but try to understand what it does by executing this line:\n",
      "list(group(ALPHABET, 2))"
     ],
     "language": "python",
     "metadata": {},
     "outputs": [
      {
       "output_type": "pyout",
       "prompt_number": 5,
       "text": [
        "[('A', 'B'),\n",
        " ('C', 'D'),\n",
        " ('E', 'F'),\n",
        " ('G', 'H'),\n",
        " ('I', 'J'),\n",
        " ('K', 'L'),\n",
        " ('M', 'N'),\n",
        " ('O', 'P'),\n",
        " ('Q', 'R'),\n",
        " ('S', 'T'),\n",
        " ('U', 'V'),\n",
        " ('W', 'X'),\n",
        " ('Y', 'Z')]"
       ]
      }
     ],
     "prompt_number": 5
    },
    {
     "cell_type": "code",
     "collapsed": false,
     "input": [
      "class Reflector(Rotor):\n",
      "    \n",
      "    def __init__(self, specification):\n",
      "        # we need to get the pairs of letters out of the string\n",
      "        pairs = specification.replace('(','').replace(')','').replace(' ','')\n",
      "        self.substitution_dict = dict()\n",
      "        for letter1, letter2 in group(pairs,2):\n",
      "            self.substitution_dict[letter1] = letter2\n",
      "            self.substitution_dict[letter2] = letter1\n",
      "            \n",
      "reflector = Reflector('(AY) (BR) (CU) (DH) (EQ) (FS) (GL) (IP) (JX) (KN) (MO) (TZ) (VW)')\n",
      "reflector.encipher('Y') # notice we don't have to re-encode this!"
     ],
     "language": "python",
     "metadata": {},
     "outputs": [
      {
       "output_type": "pyout",
       "prompt_number": 6,
       "text": [
        "'A'"
       ]
      }
     ],
     "prompt_number": 6
    },
    {
     "cell_type": "code",
     "collapsed": false,
     "input": [
      "# some reflectors used in Enigma\n",
      "reflectorB = Reflector('(AY) (BR) (CU) (DH) (EQ) (FS) (GL) (IP) (JX) (KN) (MO) (TZ) (VW)')\n",
      "reflectorC = Reflector('(AF) (BV) (CP) (DJ) (EI) (GO) (HY) (KR) (LZ) (MX) (NW) (TQ) (SU)')\n",
      "reflectorB_Dunn = Reflector('(AE) (BN) (CK) (DQ) (FU) (GY) (HW) (IJ) (LO) (MP) (RX) (SZ) (TV)')\n",
      "reflectorC_Dunn = Reflector('(AR) (BD) (CO) (EJ) (FN) (GT) (HK) (IV) (LM) (PW) (QZ) (SX) (UY)')"
     ],
     "language": "python",
     "metadata": {},
     "outputs": [],
     "prompt_number": 7
    },
    {
     "cell_type": "markdown",
     "metadata": {},
     "source": [
      "After passing through this, the current goes back through the rotors in reverse order. Moreover, because the current is inversed, the substitutions are also reversed. An 'A' that comes out of the reflector goes through, say, Rotor III and comes out not as 'B', but 'T'. This means we need a new function in our Rotor class."
     ]
    },
    {
     "cell_type": "code",
     "collapsed": false,
     "input": [
      "class Rotor:  \n",
      "    def __init__(self, substitution):\n",
      "        # This maps A..Z to the substitution cipher\n",
      "        assert len(substitution) == len(ALPHABET)\n",
      "        self.substitution_dict = {k:v for k,v in zip(ALPHABET, substitution.upper())} \n",
      "        self.create_reverse_dict()\n",
      "        \n",
      "    def create_reverse_dict(self):\n",
      "        self.decipher_dict = {v:k for k,v in self.substitution_dict.items()}\n",
      "        \n",
      "    def encipher(self, letter):\n",
      "        return self.substitution_dict[letter.upper()]\n",
      "    \n",
      "    def decipher(self, letter):\n",
      "        return self.decipher_dict[letter.upper()]\n",
      "    \n",
      "# refresh these\n",
      "rotorI   = Rotor('EKMFLGDQVZNTOWYHXUSPAIBRCJ')\n",
      "rotorII  = Rotor('AJDKSIRUXBLHWTMCQGZNPYFVOE')\n",
      "rotorIII = Rotor('BDFHJLCPRTXVZNYEIWGAKMUSQO')\n",
      "rotorIV  = Rotor('ESOVPZJAYQUIRHXLNFTGKDCMWB')\n",
      "rotorV   = Rotor('VZBRGITYUPSDNHLXAWMJQOFECK')\n",
      "rotorVI  = Rotor('JPGVOUMFYQBENHZRDKASXLICTW')\n",
      "rotorVII = Rotor('NZJHGRCXMYSWBOUFAIVLPEKQDT')\n",
      "rotorIX  = Rotor('FKQHTLXOCBJSPDZRAMEWNIUYGV')\n",
      "rotorIII.decipher('A')"
     ],
     "language": "python",
     "metadata": {},
     "outputs": [
      {
       "output_type": "pyout",
       "prompt_number": 8,
       "text": [
        "'T'"
       ]
      }
     ],
     "prompt_number": 8
    },
    {
     "cell_type": "markdown",
     "metadata": {},
     "source": [
      "Now we have all the code we need to put together a basic Enigma machine!"
     ]
    },
    {
     "cell_type": "code",
     "collapsed": false,
     "input": [
      "class BasicEnigma:\n",
      "    \n",
      "    # remember, to set up our Enigma machine we need to choose three rotors and a reflector board\n",
      "    def __init__(self, rotor1, rotor2, rotor3, reflector):\n",
      "        self.rotor1 = rotor1\n",
      "        self.rotor2 = rotor2\n",
      "        self.rotor3 = rotor3\n",
      "        self.reflector = reflector\n",
      "        \n",
      "    def encipher(self, letter):\n",
      "        output_of_rotors_in  = self.rotor3.encipher(self.rotor2.encipher(self.rotor1.encipher(letter)))\n",
      "        print output_of_rotors_in\n",
      "        output_of_reflector  = self.reflector.encipher(output_of_rotors_in)\n",
      "        output_of_rotors_out = self.rotor1.decipher(self.rotor2.decipher(self.rotor3.decipher(output_of_reflector)))\n",
      "        return output_of_rotors_out\n",
      "    \n",
      "# set up an Enigma machine with RotorI, RotorII, RotorIII followed by Reflector Board B\n",
      "my_first_enigma = BasicEnigma(rotorI, rotorII, rotorIII, reflectorB)\n",
      "my_first_enigma.encipher('G')"
     ],
     "language": "python",
     "metadata": {},
     "outputs": [
      {
       "output_type": "stream",
       "stream": "stdout",
       "text": [
        "X\n"
       ]
      },
      {
       "output_type": "pyout",
       "prompt_number": 9,
       "text": [
        "'J'"
       ]
      }
     ],
     "prompt_number": 9
    },
    {
     "cell_type": "raw",
     "metadata": {},
     "source": [
      "Let's extend this with a function to encipher a whole string at once."
     ]
    },
    {
     "cell_type": "code",
     "collapsed": false,
     "input": [
      "class BasicEnigma:\n",
      "    \n",
      "    # remember, to set up our Enigma machine we need to choose three rotors and a reflector board\n",
      "    def __init__(self, rotor1, rotor2, rotor3, reflector):\n",
      "        self.rotor1 = rotor1\n",
      "        self.rotor2 = rotor2\n",
      "        self.rotor3 = rotor3\n",
      "        self.reflector = reflector\n",
      "        \n",
      "    # the current goes into the rightmost rotor first, which we'll take to be rotor3, followed by rotor2, rotor1, etc...\n",
      "    def encipher(self, letter):\n",
      "        output_of_rotors_in  = self.rotor1.encipher(self.rotor2.encipher(self.rotor3.encipher(letter)))\n",
      "        output_of_reflector  = self.reflector.encipher(output_of_rotors_in)\n",
      "        output_of_rotors_out = self.rotor3.decipher(self.rotor2.decipher(self.rotor1.decipher(output_of_reflector)))\n",
      "        return output_of_rotors_out\n",
      "\n",
      "    def encipher_string(self, string):\n",
      "        return \"\".join([self.encipher(letter) for letter in string])\n",
      "    \n",
      "# set up an Enigma machine with RotorI, RotorII, RotorIII followed by Reflector Board B\n",
      "my_first_enigma = BasicEnigma(rotorI, rotorII, rotorIII, reflectorB)\n",
      "my_first_enigma.encipher_string('GGG')"
     ],
     "language": "python",
     "metadata": {},
     "outputs": [
      {
       "output_type": "pyout",
       "prompt_number": 10,
       "text": [
        "'PPP'"
       ]
      }
     ],
     "prompt_number": 10
    },
    {
     "cell_type": "raw",
     "metadata": {},
     "source": [
      "An important property of Enigma is that it is *symmetric*. Once you have your ciphertext, if you set up your Enigma machine in the same way the encipherment was done, you can key in the ciphertext and get back the original plaintext."
     ]
    },
    {
     "cell_type": "code",
     "collapsed": false,
     "input": [
      "my_first_enigma.encipher_string('ABCDEFGHIJKLMNOPQRSTUVWYXZ')"
     ],
     "language": "python",
     "metadata": {},
     "outputs": [
      {
       "output_type": "pyout",
       "prompt_number": 11,
       "text": [
        "'UEJOBTPZWCNSRKDGVMLFAQIXYH'"
       ]
      }
     ],
     "prompt_number": 11
    },
    {
     "cell_type": "code",
     "collapsed": false,
     "input": [
      "my_first_enigma.encipher_string('UEJOBTPZWCNSRKDGVMLFAQIXYH')"
     ],
     "language": "python",
     "metadata": {},
     "outputs": [
      {
       "output_type": "pyout",
       "prompt_number": 12,
       "text": [
        "'ABCDEFGHIJKLMNOPQRSTUVWYXZ'"
       ]
      }
     ],
     "prompt_number": 12
    },
    {
     "cell_type": "markdown",
     "metadata": {},
     "source": [
      "Why is this the case?\n",
      "\n",
      "Let's think about the rotors and reflector as functions, since that's what they are. Call them $f,g,h,j$ respectively ($j$ is the reflector).\n",
      "\n",
      "The encryption process gives us $y = f^{-1}(g^{-1}(h^{-1}(j(h(g(f(x)))))))$ .\n",
      "\n",
      "Now applying the same process to $y$, we get:\n",
      "\n",
      "$$z = f^{-1}(g^{-1}(h^{-1}(j(h(g(f(y)))))) = f^{-1}(g^{-1}(h^{-1}(j(j(h(g(f(x))))))))$$\n",
      "\n",
      "Remember, $j$ is symmetric - so $j(j(x))=x$. So continuing to simplify, we get:\n",
      "\n",
      "$$z = f^{-1}(g^{-1}(h^{-1}(h(g(f(x))))) = x$$\n",
      "\n",
      "The symmetry of the reflector, plus the fact that the action of the rotors is inverted on the way out, is the key."
     ]
    },
    {
     "cell_type": "markdown",
     "metadata": {},
     "source": [
      "A second important property of Enigma is that a letter is never mapped onto itself. (You can experiment a bit with different rotors and plaintexts to satisfy yourself that this is the case.) But why?\n",
      "\n",
      "Suppose that we did have $x=f^{\u22121}(g^{\u22121}(h^{\u22121}(j(h(g(f(x)))))))$ . Then\n",
      "\n",
      "$$h(g(f(x))) = j(h(g(f(x))))$$\n",
      "\n",
      "This means that $j(y)=y$ for some value $y$, but the reflector is designed to map pairs of letters -- it could never map a letter to itself! This was a serious cryptographic weakness to Enigma, and one that would be exploited by Allied codebreakers.\n"
     ]
    },
    {
     "cell_type": "markdown",
     "metadata": {},
     "source": [
      "Hooray! We're done with our most basic version of Enigma.\n",
      "\n",
      "Quiz question: suppose you have five rotors and four reflector boards to choose from. How many possible *keys* are there?"
     ]
    },
    {
     "cell_type": "code",
     "collapsed": false,
     "input": [
      "# Answer: \n",
      "\n",
      "5*4*3*4\n",
      "\n",
      "# Reasoning: There are 5 rotors to choose to slot into the rightmost slot, \n",
      "# 4 remaining into the middle, and 3 into the leftmost slot; and 4 ways to choose a reflector."
     ],
     "language": "python",
     "metadata": {},
     "outputs": [
      {
       "output_type": "pyout",
       "prompt_number": 13,
       "text": [
        "240"
       ]
      }
     ],
     "prompt_number": 13
    },
    {
     "cell_type": "markdown",
     "metadata": {},
     "source": [
      "That's not enough keys! If this were all there was to Enigma, it would have been easy to break through trial and error. The real Enigma was complicated in several ways. We'll go through them in more detail in the next module."
     ]
    }
   ],
   "metadata": {}
  }
 ]
}
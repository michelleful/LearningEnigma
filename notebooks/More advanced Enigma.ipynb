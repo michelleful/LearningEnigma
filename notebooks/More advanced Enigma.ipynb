{
 "metadata": {
  "name": "More advanced Enigma"
 },
 "nbformat": 3,
 "nbformat_minor": 0,
 "worksheets": [
  {
   "cells": [
    {
     "cell_type": "markdown",
     "metadata": {},
     "source": [
      "In this tutorial, we'll program a more historically accurate version of the Enigma machine. We'll add three components/behaviours:\n",
      "\n",
      "- rotor stepping: the rightmost rotor turns one step at a time\n",
      "- rotor turnover: when the rightmost rotor reaches a notch position, it triggers a step in the middle rotor; similarly when the middle rotor reaches a notch position, it triggers a step in the leftmost rotor.\n",
      "- plugboard (German _stecker_): In German military Enigmas, the operator could connect pairs of letters to add another layer of substitution cipher, which was completely random as compared to the fixed rotors and reflectors. This made the German Enigma code exponentially more difficult to decipher than the commercial versions."
     ]
    },
    {
     "cell_type": "code",
     "collapsed": false,
     "input": [
      "# our first step is to edit our Rotor class so that we can refer to the rotor's notch position\n",
      "# we also add a function to move the rotor one step forward\n",
      "\n",
      "class Rotor:  \n",
      "    def __init__(self, substitution, current_position, notch_position):\n",
      "        # This maps A..Z to the substitution cipher\n",
      "        assert len(substitution) == len(ALPHABET)\n",
      "        self.substitution = substitution\n",
      "        # map the position to 0=A, 1=B, 2=C etc\n",
      "        # to do this, we first find the ASCII number for the position letter and minus off the ASCII number for A.\n",
      "        self.current_position = ord(current_position.upper())-ord('A')\n",
      "        self.notch_position   = ord(notch_position.upper())-ord('A')\n",
      "        \n",
      "    def advance(self):\n",
      "        \"\"\"\n",
      "        Advances the rotor by one step. If the rotor is now at its notch position, return 1, 0 otherwise.\n",
      "        A function within the Enigma class will implement the carrying to the next rotor\n",
      "        \"\"\"\n",
      "        self.current_position = (self.current_position + 1) % 26\n",
      "        if self.current_position == self.notch_position:\n",
      "            return 1\n",
      "        return 0\n",
      "    \n",
      "    # These functions are exactly the same as in the previous notebook\n",
      "    \n",
      "    def encipher(self, letter): # this will be based on the current position\n",
      "                                # because eventually the position will change as we encipher more letters!\n",
      "        # aim: find the index of the character we want in the substitution alphabet, \n",
      "        # given the current arrangement of the plaintext alphabet, which is dictated by the current position\n",
      "        # e.g. is position == 1, the plaintext alphabet is 'BCD...XYZA'\n",
      "        index = (ord(letter.upper())-ord('A') - self.position) % 26\n",
      "        return self.substitution[index]\n",
      "    \n",
      "    def decipher(self, letter):\n",
      "        # to do decipherment, first we have to find the letter in the substitution alphabet\n",
      "        # then, we have to add to that the position (pretty much the reverse of the enciphering process) mod 26.\n",
      "        # Then add 65 and convert that to the corresponding character\n",
      "        return chr((self.substitution.index(letter.upper()) + self.position) % 26 + ord('A'))"
     ],
     "language": "python",
     "metadata": {},
     "outputs": []
    },
    {
     "cell_type": "raw",
     "metadata": {},
     "source": [
      "We don't need to make any changes to the Reflector class."
     ]
    },
    {
     "cell_type": "code",
     "collapsed": false,
     "input": [
      "class Reflector:\n",
      "    \n",
      "    def __init__(self, specification):\n",
      "        # we need to get the pairs of letters out of the string\n",
      "        pairs = specification.replace('(','').replace(')','').replace(' ','')\n",
      "        self.substitution_dict = dict()\n",
      "        for letter1, letter2 in group(pairs,2):\n",
      "            self.substitution_dict[letter1] = letter2\n",
      "            self.substitution_dict[letter2] = letter1\n",
      "\n",
      "    def encipher(self, letter):\n",
      "        return self.substitution_dict[letter.upper()]"
     ],
     "language": "python",
     "metadata": {},
     "outputs": []
    },
    {
     "cell_type": "code",
     "collapsed": false,
     "input": [],
     "language": "python",
     "metadata": {},
     "outputs": []
    }
   ],
   "metadata": {}
  }
 ]
}
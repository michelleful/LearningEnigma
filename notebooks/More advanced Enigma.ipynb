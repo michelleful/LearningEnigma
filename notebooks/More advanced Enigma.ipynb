{
 "metadata": {
  "name": "More advanced Enigma"
 },
 "nbformat": 3,
 "nbformat_minor": 0,
 "worksheets": [
  {
   "cells": [
    {
     "cell_type": "markdown",
     "metadata": {},
     "source": [
      "In this tutorial, we'll program a more historically accurate version of the Enigma machine. We'll add three components/behaviours:\n",
      "\n",
      "- rotor stepping: the rightmost rotor turns one step at a time\n",
      "- rotor turnover: when the rightmost rotor reaches a notch position, it triggers a step in the middle rotor; similarly when the middle rotor reaches a notch position, it triggers a step in the leftmost rotor.\n",
      "- plugboard (German _stecker_): In German military Enigmas, the operator could connect pairs of letters to add another layer of substitution cipher, which was completely random as compared to the fixed rotors and reflectors. This made the German Enigma code exponentially more difficult to decipher than the commercial versions.\n",
      "\n",
      "We'll start by implementing the plugboard, which is basically very similar to the Reflector except that (i) each connection was controlled by the operator and (ii) usually just 10 pairs of letters were connected. We will reuse the Reflector class, but add a bit of code to allow for unused characters. These characters will just map to themselves."
     ]
    },
    {
     "cell_type": "code",
     "collapsed": false,
     "input": [
      "ALPHABET = 'ABCDEFGHIJKLMNOPQRSTUVWXYZ'\n",
      "\n",
      "class Reflector:\n",
      "    \n",
      "    def __init__(self, specification):\n",
      "        # we need to get the pairs of letters out of the string\n",
      "        pairs = specification.replace('(','').replace(')','').replace(' ','')\n",
      "        self.substitution_dict = dict()\n",
      "        for letter1, letter2 in self.group(pairs,2):\n",
      "            self.substitution_dict[letter1] = letter2\n",
      "            self.substitution_dict[letter2] = letter1\n",
      "\n",
      "        # now go through remaining letters and have them undergo the identity mapping\n",
      "        for letter in ALPHABET:\n",
      "            if letter not in self.substitution_dict.keys():\n",
      "                self.substitution_dict[letter] = letter\n",
      "\n",
      "    def encipher(self, letter):\n",
      "        return self.substitution_dict[letter.upper()]\n",
      "    \n",
      "    # helper function - let's not worry too much about how it's coded at the moment\n",
      "    def group(self, iterator, count):\n",
      "        itr = iter(iterator)\n",
      "        while True:\n",
      "            yield tuple([itr.next() for i in range(count)])\n",
      "            "
     ],
     "language": "python",
     "metadata": {},
     "outputs": [],
     "prompt_number": 3
    },
    {
     "cell_type": "code",
     "collapsed": false,
     "input": [
      "# Testing the revised Reflector class - we'll start using asserts for this purpose\n",
      "\n",
      "plugboard_connections = '(AY) (BR) (CU) (DH) (EQ) (FS) (GL) (IP) (JX) (KN)' # MOTVWZ do not have connections\n",
      "\n",
      "plugboard = Reflector(plugboard_connections)\n",
      "assert plugboard.encipher('A') == 'Y'\n",
      "assert plugboard.encipher('O') == 'O'\n",
      "\n",
      "# If running this results in no output, everything's good :)"
     ],
     "language": "python",
     "metadata": {},
     "outputs": [],
     "prompt_number": 8
    },
    {
     "cell_type": "code",
     "collapsed": false,
     "input": [
      "# our next step is to edit our Rotor class so that we can refer to the rotor's notch position\n",
      "# we also add a function to move the rotor one step forward\n",
      "\n",
      "class Rotor:  \n",
      "    def __init__(self, substitution, current_position, notch_position):\n",
      "        # This maps A..Z to the substitution cipher\n",
      "        assert len(substitution) == len(ALPHABET)\n",
      "        self.substitution = substitution\n",
      "        # map the position to 0=A, 1=B, 2=C etc\n",
      "        # to do this, we first find the ASCII number for the position letter and minus off the ASCII number for A.\n",
      "        self.current_position = ord(current_position.upper())-ord('A')\n",
      "        self.notch_position   = ord(notch_position.upper())-ord('A')\n",
      "        \n",
      "    def advance(self):\n",
      "        \"\"\"\n",
      "        Advances the rotor by one step. If the rotor is now at its notch position, return 1, 0 otherwise.\n",
      "        A function within the Enigma class will implement the carrying to the next rotor\n",
      "        \"\"\"\n",
      "        self.current_position = (self.current_position + 1) % 26\n",
      "        if self.current_position == self.notch_position:\n",
      "            return 1\n",
      "        return 0\n",
      "    \n",
      "    # These functions are exactly the same as in the previous notebook\n",
      "    \n",
      "    def encipher(self, letter): # this will be based on the current position\n",
      "                                # because eventually the position will change as we encipher more letters!\n",
      "        # aim: find the index of the character we want in the substitution alphabet, \n",
      "        # given the current arrangement of the plaintext alphabet, which is dictated by the current position\n",
      "        # e.g. is position == 1, the plaintext alphabet is 'BCD...XYZA'\n",
      "        index = (ord(letter.upper())-ord('A') - self.position) % 26\n",
      "        return self.substitution[index]\n",
      "    \n",
      "    def decipher(self, letter):\n",
      "        # to do decipherment, first we have to find the letter in the substitution alphabet\n",
      "        # then, we have to add to that the position (pretty much the reverse of the enciphering process) mod 26.\n",
      "        # Then add 65 and convert that to the corresponding character\n",
      "        return chr((self.substitution.index(letter.upper()) + self.position) % 26 + ord('A'))"
     ],
     "language": "python",
     "metadata": {},
     "outputs": [],
     "prompt_number": 9
    },
    {
     "cell_type": "raw",
     "metadata": {},
     "source": [
      "Now, we rewrite the Enigma class to (i) incorporate the plugboard, and (ii) add the knock-on functionality"
     ]
    },
    {
     "cell_type": "code",
     "collapsed": false,
     "input": [
      "class MilitaryEnigma:\n",
      "    \n",
      "    # remember, to set up our Enigma machine we need to choose three rotors and a reflector board\n",
      "    # rotor1 is leftmost, rotor2 is middle, rotor3 is rightmost\n",
      "    # rotors and reflectors will be pre-defined as these were physical objects to be selected\n",
      "    # plugboard_connections will be input by the operator and constructed in __init__()\n",
      "    def __init__(self, rotor_left, rotor_middle, rotor_right, reflector, plugboard_connections):\n",
      "        self.rotor_left   = rotor_left\n",
      "        self.rotor_middle = rotor_middle\n",
      "        self.rotor_right  = rotor_right\n",
      "        self.reflector = reflector\n",
      "        self.plugboard = Reflector(plugboard_connections)\n",
      "        \n",
      "    # the current goes into the plugboard first, then through rotor3, rotor2, rotor1, shifting and knocking on as it goes.\n",
      "    def encipher(self, letter):\n",
      "        # the first step was to advance the rightmost rotor, with the respective knock-on effects occurring\n",
      "        knockon = self.rotor_right.advance() # rightmost rotor always advances\n",
      "        if knockon_right:\n",
      "            knockon_middle = self.rotor_middle.advance()\n",
      "            if knockon_middle:\n",
      "                self.rotor_left.advance()\n",
      "        # now send the current through - first through the plugboard,\n",
      "        # then rotor_right, rotor_middle, rotor_left\n",
      "        output = self.rotor_left.encipher(self.rotor_middle.encipher(self.rotor_right.encipher(self.plugboard.encipher(letter))))\n",
      "        # then through the reflector\n",
      "        output = self.reflector.encipher(output)\n",
      "        # and back again in the opposite direction, but using the DECIPHER function of the rotors\n",
      "        output = self.plugboard.encipher(self.rotor_right.decipher(self.rotor_middle.decipher(self.rotor_left.decipher(output))))\n",
      "        return output \n",
      "        \n",
      "    def encipher_string(self, string):\n",
      "        return \"\".join([self.encipher(letter) for letter in string])"
     ],
     "language": "python",
     "metadata": {},
     "outputs": []
    },
    {
     "cell_type": "markdown",
     "metadata": {},
     "source": []
    }
   ],
   "metadata": {}
  }
 ]
}
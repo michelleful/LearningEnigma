{
 "metadata": {
  "name": "More advanced Enigma"
 },
 "nbformat": 3,
 "nbformat_minor": 0,
 "worksheets": [
  {
   "cells": [
    {
     "cell_type": "markdown",
     "metadata": {},
     "source": [
      "In this tutorial, we'll program a more historically accurate version of the Enigma machine. We'll add three components/behaviours:\n",
      "\n",
      "- rotor stepping: the rightmost rotor turns one step at a time\n",
      "- rotor turnover: when the rightmost rotor reaches a notch position, it triggers a step in the middle rotor; similarly when the middle rotor reaches a notch position, it triggers a step in the leftmost rotor.\n",
      "- plugboard (German _stecker_): In German military Enigmas, the operator could connect pairs of letters to add another layer of substitution cipher, which was completely random as compared to the fixed rotors and reflectors. This made the German Enigma code exponentially more difficult to decipher than the commercial versions."
     ]
    },
    {
     "cell_type": "code",
     "collapsed": false,
     "input": [
      "# our first step is to edit our Rotor class so that we can refer to the rotor's notch position\n",
      "\n",
      "class Rotor:  \n",
      "    def __init__(self, substitution, current_position, notch_position):\n",
      "        # This maps A..Z to the substitution cipher\n",
      "        assert len(substitution) == len(ALPHABET)\n",
      "        self.substitution = substitution\n",
      "        # map the position to 0=A, 1=B, 2=C etc\n",
      "        # to do this, we first find the ASCII number for the position letter and minus off the ASCII number for A.\n",
      "        self.current_position = ord(current_position.upper())-ord('A')\n",
      "        self.notch_position   = notch_position # TODO: do we convert this or can we leave it as a letter?"
     ],
     "language": "python",
     "metadata": {},
     "outputs": []
    }
   ],
   "metadata": {}
  }
 ]
}